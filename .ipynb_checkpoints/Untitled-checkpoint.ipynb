{
 "cells": [
  {
   "cell_type": "code",
   "execution_count": 7,
   "metadata": {
    "collapsed": false
   },
   "outputs": [],
   "source": [
    "data(mtcars)"
   ]
  },
  {
   "cell_type": "code",
   "execution_count": 9,
   "metadata": {
    "collapsed": false
   },
   "outputs": [
    {
     "name": "stderr",
     "output_type": "stream",
     "text": [
      "Installing package into ‘/data2/local/lib/R/site-library’\n",
      "(as ‘lib’ is unspecified)\n",
      "also installing the dependencies ‘colorspace’, ‘Rcpp’, ‘RColorBrewer’, ‘dichromat’, ‘munsell’, ‘labeling’, ‘gtable’, ‘plyr’, ‘reshape2’, ‘scales’\n",
      "\n"
     ]
    }
   ],
   "source": [
    "install.packages('ggplot2')"
   ]
  },
  {
   "cell_type": "code",
   "execution_count": 14,
   "metadata": {
    "collapsed": true
   },
   "outputs": [],
   "source": [
    "?qplot"
   ]
  },
  {
   "cell_type": "code",
   "execution_count": 13,
   "metadata": {
    "collapsed": false
   },
   "outputs": [
    {
     "ename": "ERROR",
     "evalue": "Error: Unknown parameters: method, formula\n",
     "output_type": "error",
     "traceback": [
      "Error: Unknown parameters: method, formula\nTraceback:\n",
      "1. qplot(wt, mpg, data = mtcars, geom = c(\"point\", \"smooth\"), method = \"lm\", \n .     formula = y ~ x, color = \"cyl\", main = \"Regression of MPG on Weight\", \n .     xlab = \"Weight\", ylab = \"MPG\")",
      "2. do.call(paste0(\"geom_\", g), params)",
      "3. geom_point(method = \"lm\", formula = y ~ x)",
      "4. layer(data = data, mapping = mapping, stat = stat, geom = GeomPoint, \n .     position = position, show.legend = show.legend, inherit.aes = inherit.aes, \n .     params = list(na.rm = na.rm, ...))",
      "5. stop(\"Unknown parameters: \", paste(extra, collapse = \", \"), call. = FALSE)"
     ]
    }
   ],
   "source": [
    "library(ggplot2)\n",
    "qplot(wt, mpg, data=mtcars, geom=c('point','smooth'),method='lm', formula=y~x, color='cyl', main='Regression of MPG on Weight', xlab='Weight', ylab='MPG')"
   ]
  }
 ],
 "metadata": {
  "kernelspec": {
   "display_name": "R",
   "language": "R",
   "name": "ir"
  },
  "language_info": {
   "codemirror_mode": "r",
   "file_extension": ".r",
   "mimetype": "text/x-r-source",
   "name": "R",
   "pygments_lexer": "r",
   "version": "3.3.1"
  }
 },
 "nbformat": 4,
 "nbformat_minor": 0
}
